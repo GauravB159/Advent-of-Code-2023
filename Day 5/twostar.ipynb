{
 "cells": [
  {
   "cell_type": "code",
   "execution_count": 8,
   "metadata": {},
   "outputs": [],
   "source": [
    "# Parsing the problem\n",
    "\n",
    "text = open(\"input.txt\").read().split(\"\\n\")\n",
    "text = [x for x in text if x]\n",
    "seeds = [int(x) for x in text.pop(0).split(': ')[1].split(\" \")]\n",
    "maps = [(i + 1, x.split(\" \")[0].split(\"-to-\")) for i, x in enumerate(text) if \"-\" in x]\n",
    "maps = {f\"{x[1][0]}-{x[1][1]}\": text[x[0]:maps[j+1][0] - 1] if j < len(maps) - 1 else  text[x[0]:] for j, x in enumerate(maps)}\n",
    "minimum = 1000000000\n",
    "seed_ranges = [(seeds[i], seeds[i + 1]) for i in range(0, len(seeds), 2) ]"
   ]
  },
  {
   "cell_type": "code",
   "execution_count": 13,
   "metadata": {},
   "outputs": [],
   "source": [
    "def map_range(srange, ranges):\n",
    "    seed_start = srange[0]\n",
    "    seed_length = srange[1]\n",
    "    seed_end = seed_start + seed_length\n",
    "    results = []\n",
    "\n",
    "    for range in ranges:\n",
    "        destination, source, length = [int(x) for x in range.split(\" \")]\n",
    "        if seed_start >= source:\n",
    "            if seed_end < source + length:\n",
    "                results.append([seed_start + (destination - source), seed_length])\n",
    "                seed_start = -1\n",
    "                seed_length = 0\n",
    "                break\n",
    "            else:\n",
    "                if source + length - seed_start > 0:\n",
    "                    results.append([seed_start + (destination - source), source + length - seed_start])\n",
    "                    seed_length -= (source + length - seed_start)\n",
    "                    seed_start = source + length\n",
    "        elif seed_end < source + length:\n",
    "            if seed_end - source > 0:\n",
    "                results.append([destination, seed_end - source])\n",
    "                seed_length -= (seed_end - source)\n",
    "                seed_end = source\n",
    "                \n",
    "    if seed_length > 0:\n",
    "        results.append([seed_start, seed_length])\n",
    "    return results"
   ]
  },
  {
   "cell_type": "markdown",
   "metadata": {},
   "source": [
    "The basic algorithm is as follows:\n",
    "\n",
    "For each seed range pair, go down the mapping list. \n",
    "Convert from source range to destination range if possible while handling range overlaps. Basically four cases as follows:\n",
    "    \n",
    "    1. source range fits inside destination range, then directly map it\n",
    "\n",
    "    2. latter part of source range fits, then map that part, and return the rest as it is\n",
    "\n",
    "    3. former part of source range fits, then map that part, and return the rest as it is\n",
    "    \n",
    "    4. Nothing fits, just return the source range\n"
   ]
  },
  {
   "cell_type": "code",
   "execution_count": 14,
   "metadata": {},
   "outputs": [
    {
     "name": "stdout",
     "output_type": "stream",
     "text": [
      "12634632\n",
      "--- 0.005837 seconds ---\n"
     ]
    }
   ],
   "source": [
    "import time\n",
    "start_time = time.time()\n",
    "\n",
    "results = []\n",
    "for seed in seed_ranges:\n",
    "    value = [seed]\n",
    "    next_round = []\n",
    "    for map in maps:\n",
    "        for val in value:\n",
    "            next_round.extend(map_range(val, maps[map]))\n",
    "        value = next_round\n",
    "        next_round = []\n",
    "    results.append(min([x[0] for x in value]))\n",
    "print(min(results))\n",
    "print(\"--- %f seconds ---\" % (time.time() - start_time))"
   ]
  }
 ],
 "metadata": {
  "kernelspec": {
   "display_name": "Python 3",
   "language": "python",
   "name": "python3"
  },
  "language_info": {
   "codemirror_mode": {
    "name": "ipython",
    "version": 3
   },
   "file_extension": ".py",
   "mimetype": "text/x-python",
   "name": "python",
   "nbconvert_exporter": "python",
   "pygments_lexer": "ipython3",
   "version": "3.10.12"
  }
 },
 "nbformat": 4,
 "nbformat_minor": 2
}
