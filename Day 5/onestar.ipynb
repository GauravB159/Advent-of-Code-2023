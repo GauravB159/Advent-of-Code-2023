{
 "cells": [
  {
   "cell_type": "code",
   "execution_count": 62,
   "metadata": {},
   "outputs": [],
   "source": [
    "def map_range(value, ranges):\n",
    "    for range in ranges:\n",
    "        destination, source, length = [int(x) for x in range.split(\" \")]\n",
    "        if value >= source and value < source + length:\n",
    "            return destination + (value - source)\n",
    "    return value"
   ]
  },
  {
   "cell_type": "code",
   "execution_count": 63,
   "metadata": {},
   "outputs": [
    {
     "name": "stdout",
     "output_type": "stream",
     "text": [
      "51752125\n"
     ]
    }
   ],
   "source": [
    "text = open(\"input.txt\").read().split(\"\\n\")\n",
    "text = [x for x in text if x]\n",
    "seeds = [int(x) for x in text.pop(0).split(': ')[1].split(\" \")]\n",
    "maps = [(i + 1, x.split(\" \")[0].split(\"-to-\")) for i, x in enumerate(text) if \"-\" in x]\n",
    "maps = {f\"{x[1][0]}-{x[1][1]}\": text[x[0]:maps[j+1][0] - 1] if j < len(maps) - 1 else  text[x[0]:] for j, x in enumerate(maps)}\n",
    "min = 1000000000\n",
    "for seed in seeds:\n",
    "    value = seed\n",
    "    for map in maps:\n",
    "        value = map_range(value, maps[map])\n",
    "    if value < min:\n",
    "        min = value\n",
    "print(min)"
   ]
  }
 ],
 "metadata": {
  "kernelspec": {
   "display_name": "Python 3",
   "language": "python",
   "name": "python3"
  },
  "language_info": {
   "codemirror_mode": {
    "name": "ipython",
    "version": 3
   },
   "file_extension": ".py",
   "mimetype": "text/x-python",
   "name": "python",
   "nbconvert_exporter": "python",
   "pygments_lexer": "ipython3",
   "version": "3.10.12"
  }
 },
 "nbformat": 4,
 "nbformat_minor": 2
}
