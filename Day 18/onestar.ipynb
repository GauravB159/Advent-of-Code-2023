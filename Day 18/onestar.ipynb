{
 "cells": [
  {
   "cell_type": "code",
   "execution_count": 3,
   "metadata": {},
   "outputs": [
    {
     "name": "stdout",
     "output_type": "stream",
     "text": [
      "39\n",
      "84\n",
      "42.0 19.5 23.5\n",
      "62\n"
     ]
    }
   ],
   "source": [
    "from math import floor\n",
    "\n",
    "text = open(\"input.txt\").read().split(\"\\n\")\n",
    "text = [x.split(\" \") for x in text]\n",
    "text = [(x[0], int(x[1])) for x in text]\n",
    "directions = {\n",
    "    'R': (0, 1),\n",
    "    'D': (1, 0),\n",
    "    'L': (0, -1),\n",
    "    'U': (-1, 0)\n",
    "}\n",
    "\n",
    "def tsum(one, two, factor):\n",
    "    return (one[0] + two[0] * factor, one[1] + two[1] * factor)\n",
    "\n",
    "def area(points):\n",
    "    total_area = 0\n",
    "    for i, point in enumerate(points):\n",
    "        next = (i + 1) % len(points)\n",
    "        total_area += (point[0] + points[next][0])*(point[1] - points[next][1])\n",
    "    print(total_area)\n",
    "    return total_area / 2\n",
    "\n",
    "loop = [(0, 0)]\n",
    "\n",
    "for order in text:\n",
    "    direction, distance = order\n",
    "    direction = directions[direction]\n",
    "    current = loop[-1]\n",
    "    for num in range(1, distance + 1):\n",
    "        loop.append(tsum(current, direction, num))\n",
    "    \n",
    "\n",
    "print(len(loop))\n",
    "A = area(loop)\n",
    "b = len(loop) / 2\n",
    "i = A - b + 1\n",
    "print(A, b, i)\n",
    "print(floor(i + len(loop)))"
   ]
  }
 ],
 "metadata": {
  "kernelspec": {
   "display_name": "Python 3",
   "language": "python",
   "name": "python3"
  },
  "language_info": {
   "codemirror_mode": {
    "name": "ipython",
    "version": 3
   },
   "file_extension": ".py",
   "mimetype": "text/x-python",
   "name": "python",
   "nbconvert_exporter": "python",
   "pygments_lexer": "ipython3",
   "version": "3.10.12"
  }
 },
 "nbformat": 4,
 "nbformat_minor": 2
}
