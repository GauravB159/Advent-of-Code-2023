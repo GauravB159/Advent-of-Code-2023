{
 "cells": [
  {
   "cell_type": "code",
   "execution_count": 80,
   "metadata": {},
   "outputs": [
    {
     "name": "stdout",
     "output_type": "stream",
     "text": [
      "[18727, 24253, 18113, 22411, 21797, 16271]\n"
     ]
    }
   ],
   "source": [
    "import math\n",
    "\n",
    "text = open(\"input.txt\").read().split(\"\\n\")\n",
    "sequence = text.pop(0)\n",
    "text.pop(0)\n",
    "nodes = [x.split(\" = \") for x in text]\n",
    "nodes = {x[0]: x[1][1:-1].split(\", \") for x in nodes}\n",
    "movemap = {\n",
    "    \"L\": 0,\n",
    "    \"R\": 1\n",
    "}\n",
    "a_map = {x: x for x in nodes if x[2] == 'A'}\n",
    "factors = []\n",
    "for a_node in a_map:\n",
    "    count = 0\n",
    "    nums = 5\n",
    "    while(nums > 0):\n",
    "        move = sequence[count % len(sequence)]\n",
    "        a_map[a_node] = nodes[a_map[a_node]][movemap[move]]\n",
    "        count += 1\n",
    "        if a_map[a_node][2] == 'Z':\n",
    "            factors.append(count)\n",
    "            nums -= 1\n",
    "print(factors)\n",
    "# multiple = 1\n",
    "# gcd = factors[0]\n",
    "# mult = factors[0]\n",
    "# for factor in factors[1:]:\n",
    "#     mult *= factor\n",
    "#     gcd = math.gcd(gcd, factor)\n",
    "\n",
    "# print(f\"{mult / gcd:.0f}\")\n",
    "# print(mult)"
   ]
  }
 ],
 "metadata": {
  "kernelspec": {
   "display_name": "Python 3",
   "language": "python",
   "name": "python3"
  },
  "language_info": {
   "codemirror_mode": {
    "name": "ipython",
    "version": 3
   },
   "file_extension": ".py",
   "mimetype": "text/x-python",
   "name": "python",
   "nbconvert_exporter": "python",
   "pygments_lexer": "ipython3",
   "version": "3.10.12"
  }
 },
 "nbformat": 4,
 "nbformat_minor": 2
}
