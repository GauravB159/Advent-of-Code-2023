{
 "cells": [
  {
   "cell_type": "code",
   "execution_count": 32,
   "metadata": {},
   "outputs": [
    {
     "name": "stdout",
     "output_type": "stream",
     "text": [
      "21797\n"
     ]
    }
   ],
   "source": [
    "text = open(\"input.txt\").read().split(\"\\n\")\n",
    "sequence = text.pop(0)\n",
    "text.pop(0)\n",
    "nodes = [x.split(\" = \") for x in text]\n",
    "nodes = {x[0]: x[1][1:-1].split(\", \") for x in nodes}\n",
    "movemap = {\n",
    "    \"L\": 0,\n",
    "    \"R\": 1\n",
    "}\n",
    "node = nodes['AAA']\n",
    "count = 0\n",
    "while(True):\n",
    "    move = sequence[count % len(sequence)]\n",
    "    next_node = node[movemap[move]]\n",
    "    count += 1\n",
    "    if next_node == 'ZZZ':\n",
    "        break\n",
    "    node = nodes[next_node]\n",
    "print(count)"
   ]
  }
 ],
 "metadata": {
  "kernelspec": {
   "display_name": "Python 3",
   "language": "python",
   "name": "python3"
  },
  "language_info": {
   "codemirror_mode": {
    "name": "ipython",
    "version": 3
   },
   "file_extension": ".py",
   "mimetype": "text/x-python",
   "name": "python",
   "nbconvert_exporter": "python",
   "pygments_lexer": "ipython3",
   "version": "3.10.12"
  }
 },
 "nbformat": 4,
 "nbformat_minor": 2
}
