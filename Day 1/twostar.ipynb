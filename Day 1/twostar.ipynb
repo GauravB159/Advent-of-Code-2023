{
 "cells": [
  {
   "cell_type": "code",
   "execution_count": 54,
   "metadata": {},
   "outputs": [],
   "source": [
    "map = {\"one\": 1, \"two\": 2, \"three\": 3, \"four\": 4, \"five\": 5, \"six\": 6, \"seven\": 7, \"eight\": 8, \"nine\": 9}\n",
    "data = open(\"input.txt\").read().split(\"\\n\")"
   ]
  },
  {
   "cell_type": "code",
   "execution_count": 55,
   "metadata": {},
   "outputs": [],
   "source": [
    "def check_keys(string):\n",
    "    for key in map:\n",
    "        if key in string:\n",
    "            return key\n",
    "    return False"
   ]
  },
  {
   "cell_type": "code",
   "execution_count": 56,
   "metadata": {},
   "outputs": [],
   "source": [
    "def get_digit(string, reverse = False):\n",
    "    temp = \"\"\n",
    "    for char in string:\n",
    "        check = check_keys(temp)\n",
    "        if check:\n",
    "            return str(map[check])\n",
    "        elif char.isdigit():\n",
    "            return char\n",
    "        else:\n",
    "            if reverse:\n",
    "                temp = char + temp\n",
    "            else:\n",
    "                temp = temp + char"
   ]
  },
  {
   "cell_type": "code",
   "execution_count": 57,
   "metadata": {},
   "outputs": [
    {
     "name": "stdout",
     "output_type": "stream",
     "text": [
      "53268\n"
     ]
    }
   ],
   "source": [
    "sum = 0\n",
    "for line in data:\n",
    "    temp = \"\"\n",
    "    num = get_digit(line) + get_digit(line[::-1], True)\n",
    "    sum += int(num)\n",
    "print(sum)"
   ]
  }
 ],
 "metadata": {
  "kernelspec": {
   "display_name": "Python 3",
   "language": "python",
   "name": "python3"
  },
  "language_info": {
   "codemirror_mode": {
    "name": "ipython",
    "version": 3
   },
   "file_extension": ".py",
   "mimetype": "text/x-python",
   "name": "python",
   "nbconvert_exporter": "python",
   "pygments_lexer": "ipython3",
   "version": "3.10.12"
  }
 },
 "nbformat": 4,
 "nbformat_minor": 2
}
