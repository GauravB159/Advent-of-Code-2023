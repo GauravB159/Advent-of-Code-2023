{
 "cells": [
  {
   "cell_type": "code",
   "execution_count": 76,
   "metadata": {},
   "outputs": [],
   "source": [
    "import math\n",
    "\n",
    "text = open(\"input.txt\").read().split(\"\\n\")\n",
    "text = [list(x) for x in text]\n",
    "grid = {}\n",
    "visited = {}\n",
    "parents = {}\n",
    "actual_distances = {}\n",
    "for i, row in enumerate(text):\n",
    "    for j, col in enumerate(row):\n",
    "        if i == 0:\n",
    "            if col == '.':\n",
    "                start  = (i, j)\n",
    "        elif i == len(text) - 1:\n",
    "            if col == '.':\n",
    "                end = (i, j)\n",
    "        grid[(i, j)] = col\n",
    "        visited[(i, j)] = False\n",
    "        actual_distances[(i, j)] = math.inf"
   ]
  },
  {
   "cell_type": "code",
   "execution_count": 78,
   "metadata": {},
   "outputs": [
    {
     "name": "stdout",
     "output_type": "stream",
     "text": [
      "82\n",
      "94\n",
      "86\n",
      "82\n",
      "74\n",
      "90\n"
     ]
    }
   ],
   "source": [
    "directions = [(0, 1), (1, 0), (0, -1), (-1, 0)]\n",
    "\n",
    "slopes = {\n",
    "    'v': (1, 0),\n",
    "    '^': (-1, 0),\n",
    "    '>': (0, 1),\n",
    "    '<': (0, -1)\n",
    "}\n",
    "\n",
    "def traverse(point, distance, odirection, visited):\n",
    "    if not grid.get(point, False):\n",
    "        return\n",
    "    if visited.get(point):\n",
    "        return\n",
    "    visited[point] = True\n",
    "    if point == end:\n",
    "        print(distance)\n",
    "    if grid[point] == '#':\n",
    "        return\n",
    "    if grid[point] in slopes:\n",
    "        traverse((point[0] + slopes[grid[point]][0], point[1] + slopes[grid[point]][1]), distance + 1, slopes[grid[point]], visited.copy())\n",
    "    else:\n",
    "        for direction in directions:\n",
    "            if odirection[0] + direction[0] == 0 and odirection[1] + direction[1] == 0:\n",
    "                continue\n",
    "            traverse((point[0] + direction[0], point[1] + direction[1]), distance + 1, direction, visited.copy())\n",
    "\n",
    "traverse(start, 0, (1, 0), {})"
   ]
  }
 ],
 "metadata": {
  "kernelspec": {
   "display_name": "Python 3",
   "language": "python",
   "name": "python3"
  },
  "language_info": {
   "codemirror_mode": {
    "name": "ipython",
    "version": 3
   },
   "file_extension": ".py",
   "mimetype": "text/x-python",
   "name": "python",
   "nbconvert_exporter": "python",
   "pygments_lexer": "ipython3",
   "version": "3.10.12"
  }
 },
 "nbformat": 4,
 "nbformat_minor": 2
}
