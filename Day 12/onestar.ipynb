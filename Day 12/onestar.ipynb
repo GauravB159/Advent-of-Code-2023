{
 "cells": [
  {
   "cell_type": "code",
   "execution_count": 160,
   "metadata": {},
   "outputs": [
    {
     "name": "stdout",
     "output_type": "stream",
     "text": [
      "7204\n"
     ]
    }
   ],
   "source": [
    "text = open(\"input.txt\").read().split(\"\\n\")\n",
    "text = [x.split(\" \") for x in text]\n",
    "\n",
    "def get_valid_arrangement(rgears, broken, start, total):\n",
    "    gears = rgears[start:]\n",
    "    count = 0\n",
    "    if len(broken) == 0:\n",
    "        hash_count = sum([1 if x == '#' else 0 for x in rgears])\n",
    "        if '#' in gears or hash_count != total: \n",
    "            return 0\n",
    "        # print([\".\" if x == \"?\" else x for x in rgears], \"1\")\n",
    "        return 1\n",
    "    broken_gears = broken[0]\n",
    "    for i in range(len(gears)):\n",
    "        if gears[i] != '.':\n",
    "            unfit = False\n",
    "            tgears = rgears[:]\n",
    "            for index in range(broken_gears):\n",
    "                if i + index >= len(gears) or gears[i + index] == '.' :\n",
    "                    unfit = True\n",
    "                    break\n",
    "                else:\n",
    "                    tgears[start + i + index] = \"#\"\n",
    "            if not unfit and ((i + broken_gears >= len(gears) or gears[i + broken_gears] != '#') and (i == 0 or gears[i - 1] != '#')):\n",
    "                count += get_valid_arrangement(tgears, broken[1:], start + i + broken_gears + 1, total)\n",
    "    return count\n",
    "\n",
    "final_count = 0\n",
    "for arrangement in text:\n",
    "    gears, broken = arrangement\n",
    "    broken = [int(x) for x in broken.split(\",\")]\n",
    "    gears = list(gears)\n",
    "    final_count += get_valid_arrangement(gears, broken, 0, sum(broken))\n",
    "print(final_count)"
   ]
  }
 ],
 "metadata": {
  "kernelspec": {
   "display_name": "Python 3",
   "language": "python",
   "name": "python3"
  },
  "language_info": {
   "codemirror_mode": {
    "name": "ipython",
    "version": 3
   },
   "file_extension": ".py",
   "mimetype": "text/x-python",
   "name": "python",
   "nbconvert_exporter": "python",
   "pygments_lexer": "ipython3",
   "version": "3.10.12"
  }
 },
 "nbformat": 4,
 "nbformat_minor": 2
}
