{
 "cells": [
  {
   "cell_type": "code",
   "execution_count": 147,
   "metadata": {},
   "outputs": [
    {
     "ename": "KeyboardInterrupt",
     "evalue": "",
     "output_type": "error",
     "traceback": [
      "\u001b[0;31m---------------------------------------------------------------------------\u001b[0m",
      "\u001b[0;31mKeyboardInterrupt\u001b[0m                         Traceback (most recent call last)",
      "\u001b[1;32m/home/gaurav/Projects/AOC2023/Day 12/twostar.ipynb Cell 1\u001b[0m line \u001b[0;36m4\n\u001b[1;32m     <a href='vscode-notebook-cell://wsl%2Bubuntu-22.04/home/gaurav/Projects/AOC2023/Day%2012/twostar.ipynb#W1sdnNjb2RlLXJlbW90ZQ%3D%3D?line=39'>40</a>\u001b[0m     broken \u001b[39m=\u001b[39m broken \u001b[39m*\u001b[39m factor\n\u001b[1;32m     <a href='vscode-notebook-cell://wsl%2Bubuntu-22.04/home/gaurav/Projects/AOC2023/Day%2012/twostar.ipynb#W1sdnNjb2RlLXJlbW90ZQ%3D%3D?line=40'>41</a>\u001b[0m     memo \u001b[39m=\u001b[39m {}\n\u001b[0;32m---> <a href='vscode-notebook-cell://wsl%2Bubuntu-22.04/home/gaurav/Projects/AOC2023/Day%2012/twostar.ipynb#W1sdnNjb2RlLXJlbW90ZQ%3D%3D?line=41'>42</a>\u001b[0m     final_count \u001b[39m+\u001b[39m\u001b[39m=\u001b[39m get_valid_arrangement(gears, broken, \u001b[39m0\u001b[39;49m, \u001b[39msum\u001b[39;49m(broken), memo)\n\u001b[1;32m     <a href='vscode-notebook-cell://wsl%2Bubuntu-22.04/home/gaurav/Projects/AOC2023/Day%2012/twostar.ipynb#W1sdnNjb2RlLXJlbW90ZQ%3D%3D?line=42'>43</a>\u001b[0m \u001b[39mprint\u001b[39m(final_count)\n",
      "\u001b[1;32m/home/gaurav/Projects/AOC2023/Day 12/twostar.ipynb Cell 1\u001b[0m line \u001b[0;36m2\n\u001b[1;32m     <a href='vscode-notebook-cell://wsl%2Bubuntu-22.04/home/gaurav/Projects/AOC2023/Day%2012/twostar.ipynb#W1sdnNjb2RlLXJlbW90ZQ%3D%3D?line=26'>27</a>\u001b[0m                 tgears[start \u001b[39m+\u001b[39m i \u001b[39m+\u001b[39m index] \u001b[39m=\u001b[39m \u001b[39m\"\u001b[39m\u001b[39m#\u001b[39m\u001b[39m\"\u001b[39m\n\u001b[1;32m     <a href='vscode-notebook-cell://wsl%2Bubuntu-22.04/home/gaurav/Projects/AOC2023/Day%2012/twostar.ipynb#W1sdnNjb2RlLXJlbW90ZQ%3D%3D?line=27'>28</a>\u001b[0m         \u001b[39mif\u001b[39;00m \u001b[39mnot\u001b[39;00m unfit \u001b[39mand\u001b[39;00m ((i \u001b[39m+\u001b[39m broken_gears \u001b[39m>\u001b[39m\u001b[39m=\u001b[39m \u001b[39mlen\u001b[39m(gears) \u001b[39mor\u001b[39;00m gears[i \u001b[39m+\u001b[39m broken_gears] \u001b[39m!=\u001b[39m \u001b[39m'\u001b[39m\u001b[39m#\u001b[39m\u001b[39m'\u001b[39m) \u001b[39mand\u001b[39;00m (i \u001b[39m==\u001b[39m \u001b[39m0\u001b[39m \u001b[39mor\u001b[39;00m gears[i \u001b[39m-\u001b[39m \u001b[39m1\u001b[39m] \u001b[39m!=\u001b[39m \u001b[39m'\u001b[39m\u001b[39m#\u001b[39m\u001b[39m'\u001b[39m)):\n\u001b[0;32m---> <a href='vscode-notebook-cell://wsl%2Bubuntu-22.04/home/gaurav/Projects/AOC2023/Day%2012/twostar.ipynb#W1sdnNjb2RlLXJlbW90ZQ%3D%3D?line=28'>29</a>\u001b[0m             count \u001b[39m+\u001b[39m\u001b[39m=\u001b[39m get_valid_arrangement(tgears, broken[\u001b[39m1\u001b[39;49m:], start \u001b[39m+\u001b[39;49m i \u001b[39m+\u001b[39;49m broken_gears \u001b[39m+\u001b[39;49m \u001b[39m1\u001b[39;49m, total, memo)\n\u001b[1;32m     <a href='vscode-notebook-cell://wsl%2Bubuntu-22.04/home/gaurav/Projects/AOC2023/Day%2012/twostar.ipynb#W1sdnNjb2RlLXJlbW90ZQ%3D%3D?line=29'>30</a>\u001b[0m memo[(\u001b[39mtuple\u001b[39m(broken), start, hash_count)] \u001b[39m=\u001b[39m count\n\u001b[1;32m     <a href='vscode-notebook-cell://wsl%2Bubuntu-22.04/home/gaurav/Projects/AOC2023/Day%2012/twostar.ipynb#W1sdnNjb2RlLXJlbW90ZQ%3D%3D?line=30'>31</a>\u001b[0m \u001b[39mreturn\u001b[39;00m count\n",
      "\u001b[1;32m/home/gaurav/Projects/AOC2023/Day 12/twostar.ipynb Cell 1\u001b[0m line \u001b[0;36m2\n\u001b[1;32m     <a href='vscode-notebook-cell://wsl%2Bubuntu-22.04/home/gaurav/Projects/AOC2023/Day%2012/twostar.ipynb#W1sdnNjb2RlLXJlbW90ZQ%3D%3D?line=26'>27</a>\u001b[0m                 tgears[start \u001b[39m+\u001b[39m i \u001b[39m+\u001b[39m index] \u001b[39m=\u001b[39m \u001b[39m\"\u001b[39m\u001b[39m#\u001b[39m\u001b[39m\"\u001b[39m\n\u001b[1;32m     <a href='vscode-notebook-cell://wsl%2Bubuntu-22.04/home/gaurav/Projects/AOC2023/Day%2012/twostar.ipynb#W1sdnNjb2RlLXJlbW90ZQ%3D%3D?line=27'>28</a>\u001b[0m         \u001b[39mif\u001b[39;00m \u001b[39mnot\u001b[39;00m unfit \u001b[39mand\u001b[39;00m ((i \u001b[39m+\u001b[39m broken_gears \u001b[39m>\u001b[39m\u001b[39m=\u001b[39m \u001b[39mlen\u001b[39m(gears) \u001b[39mor\u001b[39;00m gears[i \u001b[39m+\u001b[39m broken_gears] \u001b[39m!=\u001b[39m \u001b[39m'\u001b[39m\u001b[39m#\u001b[39m\u001b[39m'\u001b[39m) \u001b[39mand\u001b[39;00m (i \u001b[39m==\u001b[39m \u001b[39m0\u001b[39m \u001b[39mor\u001b[39;00m gears[i \u001b[39m-\u001b[39m \u001b[39m1\u001b[39m] \u001b[39m!=\u001b[39m \u001b[39m'\u001b[39m\u001b[39m#\u001b[39m\u001b[39m'\u001b[39m)):\n\u001b[0;32m---> <a href='vscode-notebook-cell://wsl%2Bubuntu-22.04/home/gaurav/Projects/AOC2023/Day%2012/twostar.ipynb#W1sdnNjb2RlLXJlbW90ZQ%3D%3D?line=28'>29</a>\u001b[0m             count \u001b[39m+\u001b[39m\u001b[39m=\u001b[39m get_valid_arrangement(tgears, broken[\u001b[39m1\u001b[39;49m:], start \u001b[39m+\u001b[39;49m i \u001b[39m+\u001b[39;49m broken_gears \u001b[39m+\u001b[39;49m \u001b[39m1\u001b[39;49m, total, memo)\n\u001b[1;32m     <a href='vscode-notebook-cell://wsl%2Bubuntu-22.04/home/gaurav/Projects/AOC2023/Day%2012/twostar.ipynb#W1sdnNjb2RlLXJlbW90ZQ%3D%3D?line=29'>30</a>\u001b[0m memo[(\u001b[39mtuple\u001b[39m(broken), start, hash_count)] \u001b[39m=\u001b[39m count\n\u001b[1;32m     <a href='vscode-notebook-cell://wsl%2Bubuntu-22.04/home/gaurav/Projects/AOC2023/Day%2012/twostar.ipynb#W1sdnNjb2RlLXJlbW90ZQ%3D%3D?line=30'>31</a>\u001b[0m \u001b[39mreturn\u001b[39;00m count\n",
      "    \u001b[0;31m[... skipping similar frames: get_valid_arrangement at line 29 (5 times)]\u001b[0m\n",
      "\u001b[1;32m/home/gaurav/Projects/AOC2023/Day 12/twostar.ipynb Cell 1\u001b[0m line \u001b[0;36m2\n\u001b[1;32m     <a href='vscode-notebook-cell://wsl%2Bubuntu-22.04/home/gaurav/Projects/AOC2023/Day%2012/twostar.ipynb#W1sdnNjb2RlLXJlbW90ZQ%3D%3D?line=26'>27</a>\u001b[0m                 tgears[start \u001b[39m+\u001b[39m i \u001b[39m+\u001b[39m index] \u001b[39m=\u001b[39m \u001b[39m\"\u001b[39m\u001b[39m#\u001b[39m\u001b[39m\"\u001b[39m\n\u001b[1;32m     <a href='vscode-notebook-cell://wsl%2Bubuntu-22.04/home/gaurav/Projects/AOC2023/Day%2012/twostar.ipynb#W1sdnNjb2RlLXJlbW90ZQ%3D%3D?line=27'>28</a>\u001b[0m         \u001b[39mif\u001b[39;00m \u001b[39mnot\u001b[39;00m unfit \u001b[39mand\u001b[39;00m ((i \u001b[39m+\u001b[39m broken_gears \u001b[39m>\u001b[39m\u001b[39m=\u001b[39m \u001b[39mlen\u001b[39m(gears) \u001b[39mor\u001b[39;00m gears[i \u001b[39m+\u001b[39m broken_gears] \u001b[39m!=\u001b[39m \u001b[39m'\u001b[39m\u001b[39m#\u001b[39m\u001b[39m'\u001b[39m) \u001b[39mand\u001b[39;00m (i \u001b[39m==\u001b[39m \u001b[39m0\u001b[39m \u001b[39mor\u001b[39;00m gears[i \u001b[39m-\u001b[39m \u001b[39m1\u001b[39m] \u001b[39m!=\u001b[39m \u001b[39m'\u001b[39m\u001b[39m#\u001b[39m\u001b[39m'\u001b[39m)):\n\u001b[0;32m---> <a href='vscode-notebook-cell://wsl%2Bubuntu-22.04/home/gaurav/Projects/AOC2023/Day%2012/twostar.ipynb#W1sdnNjb2RlLXJlbW90ZQ%3D%3D?line=28'>29</a>\u001b[0m             count \u001b[39m+\u001b[39m\u001b[39m=\u001b[39m get_valid_arrangement(tgears, broken[\u001b[39m1\u001b[39;49m:], start \u001b[39m+\u001b[39;49m i \u001b[39m+\u001b[39;49m broken_gears \u001b[39m+\u001b[39;49m \u001b[39m1\u001b[39;49m, total, memo)\n\u001b[1;32m     <a href='vscode-notebook-cell://wsl%2Bubuntu-22.04/home/gaurav/Projects/AOC2023/Day%2012/twostar.ipynb#W1sdnNjb2RlLXJlbW90ZQ%3D%3D?line=29'>30</a>\u001b[0m memo[(\u001b[39mtuple\u001b[39m(broken), start, hash_count)] \u001b[39m=\u001b[39m count\n\u001b[1;32m     <a href='vscode-notebook-cell://wsl%2Bubuntu-22.04/home/gaurav/Projects/AOC2023/Day%2012/twostar.ipynb#W1sdnNjb2RlLXJlbW90ZQ%3D%3D?line=30'>31</a>\u001b[0m \u001b[39mreturn\u001b[39;00m count\n",
      "\u001b[1;32m/home/gaurav/Projects/AOC2023/Day 12/twostar.ipynb Cell 1\u001b[0m line \u001b[0;36m5\n\u001b[1;32m      <a href='vscode-notebook-cell://wsl%2Bubuntu-22.04/home/gaurav/Projects/AOC2023/Day%2012/twostar.ipynb#W1sdnNjb2RlLXJlbW90ZQ%3D%3D?line=3'>4</a>\u001b[0m \u001b[39mdef\u001b[39;00m \u001b[39mget_valid_arrangement\u001b[39m(rgears, broken, start, total, memo):\n\u001b[0;32m----> <a href='vscode-notebook-cell://wsl%2Bubuntu-22.04/home/gaurav/Projects/AOC2023/Day%2012/twostar.ipynb#W1sdnNjb2RlLXJlbW90ZQ%3D%3D?line=4'>5</a>\u001b[0m     hash_count \u001b[39m=\u001b[39m \u001b[39msum\u001b[39m([\u001b[39m1\u001b[39m \u001b[39mif\u001b[39;00m x \u001b[39m==\u001b[39m \u001b[39m'\u001b[39m\u001b[39m#\u001b[39m\u001b[39m'\u001b[39m \u001b[39melse\u001b[39;00m \u001b[39m0\u001b[39m \u001b[39mfor\u001b[39;00m x \u001b[39min\u001b[39;00m rgears])\n\u001b[1;32m      <a href='vscode-notebook-cell://wsl%2Bubuntu-22.04/home/gaurav/Projects/AOC2023/Day%2012/twostar.ipynb#W1sdnNjb2RlLXJlbW90ZQ%3D%3D?line=5'>6</a>\u001b[0m     \u001b[39mif\u001b[39;00m (\u001b[39mtuple\u001b[39m(broken), start, hash_count) \u001b[39min\u001b[39;00m memo:\n\u001b[1;32m      <a href='vscode-notebook-cell://wsl%2Bubuntu-22.04/home/gaurav/Projects/AOC2023/Day%2012/twostar.ipynb#W1sdnNjb2RlLXJlbW90ZQ%3D%3D?line=6'>7</a>\u001b[0m         \u001b[39mreturn\u001b[39;00m memo[(\u001b[39mtuple\u001b[39m(broken), start, hash_count)]\n",
      "\u001b[1;32m/home/gaurav/Projects/AOC2023/Day 12/twostar.ipynb Cell 1\u001b[0m line \u001b[0;36m5\n\u001b[1;32m      <a href='vscode-notebook-cell://wsl%2Bubuntu-22.04/home/gaurav/Projects/AOC2023/Day%2012/twostar.ipynb#W1sdnNjb2RlLXJlbW90ZQ%3D%3D?line=3'>4</a>\u001b[0m \u001b[39mdef\u001b[39;00m \u001b[39mget_valid_arrangement\u001b[39m(rgears, broken, start, total, memo):\n\u001b[0;32m----> <a href='vscode-notebook-cell://wsl%2Bubuntu-22.04/home/gaurav/Projects/AOC2023/Day%2012/twostar.ipynb#W1sdnNjb2RlLXJlbW90ZQ%3D%3D?line=4'>5</a>\u001b[0m     hash_count \u001b[39m=\u001b[39m \u001b[39msum\u001b[39m([\u001b[39m1\u001b[39m \u001b[39mif\u001b[39;00m x \u001b[39m==\u001b[39m \u001b[39m'\u001b[39m\u001b[39m#\u001b[39m\u001b[39m'\u001b[39m \u001b[39melse\u001b[39;00m \u001b[39m0\u001b[39m \u001b[39mfor\u001b[39;00m x \u001b[39min\u001b[39;00m rgears])\n\u001b[1;32m      <a href='vscode-notebook-cell://wsl%2Bubuntu-22.04/home/gaurav/Projects/AOC2023/Day%2012/twostar.ipynb#W1sdnNjb2RlLXJlbW90ZQ%3D%3D?line=5'>6</a>\u001b[0m     \u001b[39mif\u001b[39;00m (\u001b[39mtuple\u001b[39m(broken), start, hash_count) \u001b[39min\u001b[39;00m memo:\n\u001b[1;32m      <a href='vscode-notebook-cell://wsl%2Bubuntu-22.04/home/gaurav/Projects/AOC2023/Day%2012/twostar.ipynb#W1sdnNjb2RlLXJlbW90ZQ%3D%3D?line=6'>7</a>\u001b[0m         \u001b[39mreturn\u001b[39;00m memo[(\u001b[39mtuple\u001b[39m(broken), start, hash_count)]\n",
      "\u001b[0;31mKeyboardInterrupt\u001b[0m: "
     ]
    }
   ],
   "source": [
    "text = open(\"input.txt\").read().split(\"\\n\")\n",
    "text = [x.split(\" \") for x in text]\n",
    "\n",
    "def get_valid_arrangement(rgears, broken, start, total, memo):\n",
    "    hash_count = sum([1 if x == '#' else 0 for x in rgears])\n",
    "    if (tuple(broken), start, hash_count) in memo:\n",
    "        return memo[(tuple(broken), start, hash_count)]\n",
    "    gears = rgears[start:]\n",
    "    count = 0\n",
    "    gear_count = sum([1 if x != '.' else 0 for x in gears])\n",
    "    if len(broken) == 0:\n",
    "        if '#' in gears or hash_count != total: \n",
    "            return 0\n",
    "        return 1\n",
    "    broken_gears = broken[0]\n",
    "    if gear_count < sum(broken):\n",
    "        return 0\n",
    "    for i in range(len(gears)):\n",
    "        if gears[i] != '.':\n",
    "            unfit = False\n",
    "            tgears = rgears[:]\n",
    "            for index in range(broken_gears):\n",
    "                if i + index >= len(gears) or gears[i + index] == '.' :\n",
    "                    unfit = True\n",
    "                    break\n",
    "                else:\n",
    "                    tgears[start + i + index] = \"#\"\n",
    "            if not unfit and ((i + broken_gears >= len(gears) or gears[i + broken_gears] != '#') and (i == 0 or gears[i - 1] != '#')):\n",
    "                count += get_valid_arrangement(tgears, broken[1:], start + i + broken_gears + 1, total, memo)\n",
    "    memo[(tuple(broken), start, hash_count)] = count\n",
    "    return count\n",
    "\n",
    "final_count = 0\n",
    "factor = 5\n",
    "for i, arrangement in enumerate(text):\n",
    "    print(i)\n",
    "    gears, broken = arrangement\n",
    "    broken = [int(x) for x in broken.split(\",\")]\n",
    "    gears = list(gears)\n",
    "    gears = ((gears + ['?']) * factor)[:-1]\n",
    "    broken = broken * factor\n",
    "    memo = {}\n",
    "    final_count += get_valid_arrangement(gears, broken, 0, sum(broken), memo)\n",
    "print(final_count)"
   ]
  }
 ],
 "metadata": {
  "kernelspec": {
   "display_name": "Python 3",
   "language": "python",
   "name": "python3"
  },
  "language_info": {
   "codemirror_mode": {
    "name": "ipython",
    "version": 3
   },
   "file_extension": ".py",
   "mimetype": "text/x-python",
   "name": "python",
   "nbconvert_exporter": "python",
   "pygments_lexer": "ipython3",
   "version": "3.10.12"
  }
 },
 "nbformat": 4,
 "nbformat_minor": 2
}
