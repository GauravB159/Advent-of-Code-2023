{
 "cells": [
  {
   "cell_type": "code",
   "execution_count": 22,
   "metadata": {},
   "outputs": [
    {
     "name": "stdout",
     "output_type": "stream",
     "text": [
      "5037841\n"
     ]
    }
   ],
   "source": [
    "text = open(\"input.txt\").read().split(\"\\n\")\n",
    "data = [x.split(\":\")[1].strip() for x in text]\n",
    "data = [x.split(\" | \") for x in data]\n",
    "data = [[x.split(\" \") for x in y] for y in data]\n",
    "summation = 0\n",
    "winmap = {}\n",
    "for i, card in enumerate(data):\n",
    "    if i not in winmap:\n",
    "        winmap[i] = 1\n",
    "    winning = set([int(x) for x in card[0] if x])\n",
    "    have = set([int(x) for x in card[1] if x])\n",
    "    power = len(winning.intersection(have))\n",
    "    for num in range(1, power + 1):\n",
    "        new = i + num\n",
    "        if new >= len(data):\n",
    "            break\n",
    "        if new not in winmap:\n",
    "            winmap[new] = 1\n",
    "        winmap[new] += winmap[i]\n",
    "print(sum(winmap.values()))"
   ]
  }
 ],
 "metadata": {
  "kernelspec": {
   "display_name": "Python 3",
   "language": "python",
   "name": "python3"
  },
  "language_info": {
   "codemirror_mode": {
    "name": "ipython",
    "version": 3
   },
   "file_extension": ".py",
   "mimetype": "text/x-python",
   "name": "python",
   "nbconvert_exporter": "python",
   "pygments_lexer": "ipython3",
   "version": "3.10.12"
  }
 },
 "nbformat": 4,
 "nbformat_minor": 2
}
