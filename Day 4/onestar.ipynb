{
 "cells": [
  {
   "cell_type": "code",
   "execution_count": 13,
   "metadata": {},
   "outputs": [
    {
     "name": "stdout",
     "output_type": "stream",
     "text": [
      "32001\n"
     ]
    }
   ],
   "source": [
    "text = open(\"input.txt\").read().split(\"\\n\")\n",
    "data = [x.split(\":\")[1].strip() for x in text]\n",
    "data = [x.split(\" | \") for x in data]\n",
    "data = [[x.split(\" \") for x in y] for y in data]\n",
    "summation = 0\n",
    "for card in data:\n",
    "    winning = set([int(x) for x in card[0] if x])\n",
    "    have = set([int(x) for x in card[1] if x])\n",
    "    power = len(winning.intersection(have)) - 1\n",
    "    if power >= 0:\n",
    "        summation += pow(2, power)\n",
    "print(summation)"
   ]
  }
 ],
 "metadata": {
  "kernelspec": {
   "display_name": "Python 3",
   "language": "python",
   "name": "python3"
  },
  "language_info": {
   "codemirror_mode": {
    "name": "ipython",
    "version": 3
   },
   "file_extension": ".py",
   "mimetype": "text/x-python",
   "name": "python",
   "nbconvert_exporter": "python",
   "pygments_lexer": "ipython3",
   "version": "3.10.12"
  }
 },
 "nbformat": 4,
 "nbformat_minor": 2
}
