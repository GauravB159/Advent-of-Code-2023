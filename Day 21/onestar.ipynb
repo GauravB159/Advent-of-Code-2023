{
 "cells": [
  {
   "cell_type": "code",
   "execution_count": 2,
   "metadata": {},
   "outputs": [
    {
     "name": "stdout",
     "output_type": "stream",
     "text": [
      "3841\n"
     ]
    }
   ],
   "source": [
    "from functools import cache\n",
    "\n",
    "text = open(\"input.txt\").read().split(\"\\n\")\n",
    "text = [list(x) for x in text]\n",
    "grid = {}\n",
    "for i, row in enumerate(text):\n",
    "    for j, col in enumerate(row):\n",
    "        if col == 'S':\n",
    "            start = (i, j)\n",
    "        grid[(i, j)] = col\n",
    "\n",
    "result = {}\n",
    "\n",
    "@cache\n",
    "def traverse(point, level, limit):\n",
    "    if not grid.get(point, 0):\n",
    "        return\n",
    "    if grid[point] == '#':\n",
    "        return\n",
    "    if level == limit:\n",
    "        # print(point, level)\n",
    "        result[point] = 1\n",
    "        return\n",
    "    # print(point, level, limit)\n",
    "    traverse((point[0] + 1, point[1]), level + 1, limit)\n",
    "    traverse((point[0] - 1, point[1]), level + 1, limit)\n",
    "    traverse((point[0], point[1] + 1), level + 1, limit)\n",
    "    traverse((point[0], point[1] - 1), level + 1, limit)\n",
    "\n",
    "traverse(start, 0, 64)\n",
    "print(len(result))"
   ]
  }
 ],
 "metadata": {
  "kernelspec": {
   "display_name": "Python 3",
   "language": "python",
   "name": "python3"
  },
  "language_info": {
   "codemirror_mode": {
    "name": "ipython",
    "version": 3
   },
   "file_extension": ".py",
   "mimetype": "text/x-python",
   "name": "python",
   "nbconvert_exporter": "python",
   "pygments_lexer": "ipython3",
   "version": "3.10.12"
  }
 },
 "nbformat": 4,
 "nbformat_minor": 2
}
