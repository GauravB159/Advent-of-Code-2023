{
 "cells": [
  {
   "cell_type": "code",
   "execution_count": 6,
   "metadata": {},
   "outputs": [],
   "source": [
    "def transpose(array):\n",
    "    return [[row[i] for row in array] for i in range(len(array[0]))]"
   ]
  },
  {
   "cell_type": "code",
   "execution_count": 58,
   "metadata": {},
   "outputs": [],
   "source": [
    "def tilt(text):\n",
    "    text_tuple = []\n",
    "    circle_sum = 0\n",
    "    for row in text:\n",
    "        hash_count = 0\n",
    "        tuple_row = row[:]\n",
    "        for j, col in enumerate(row):\n",
    "            if col == \"#\":\n",
    "                hash_count += 1\n",
    "                value = hash_count * 10000\n",
    "            elif col == \".\":\n",
    "                value = hash_count * 10000 + (j + 1) * 100\n",
    "            else:\n",
    "                value = hash_count * 10000 + j * 1\n",
    "            tuple_row[j] = (col, value)\n",
    "        sorted_tuple_row = sorted(tuple_row, key=lambda x: x[1])\n",
    "        \n",
    "        # print(tuple_row)\n",
    "        text_tuple.append([x[0] for x in sorted_tuple_row])\n",
    "    # print(circle_sum)\n",
    "    return text_tuple"
   ]
  },
  {
   "cell_type": "code",
   "execution_count": 110,
   "metadata": {},
   "outputs": [],
   "source": [
    "def get_load(text):\n",
    "    sum = 0\n",
    "    for i, row in enumerate(text):\n",
    "        for col in row:\n",
    "            if col == \"O\":\n",
    "                sum += (len(text) - i)\n",
    "    return sum"
   ]
  },
  {
   "cell_type": "code",
   "execution_count": 128,
   "metadata": {},
   "outputs": [
    {
     "name": "stdout",
     "output_type": "stream",
     "text": [
      "92 34 [112433, 112420, 112432, 112441, 112452, 112474, 112495, 112512, 112544, 112575, 112584, 112576, 112569, 112549, 112517, 112477, 112456, 112429, 112424, 112428, 112445, 112448, 112478, 112491, 112516, 112540, 112579, 112580, 112580, 112565, 112553, 112513, 112481, 112452]\n",
      "112452\n"
     ]
    }
   ],
   "source": [
    "text = open(\"input.txt\").read().split(\"\\n\")\n",
    "text = [list(x) for x in text]\n",
    "cycles = 1000\n",
    "sums = []\n",
    "cache = {}\n",
    "result_cycles = 1000000000\n",
    "for i in range(cycles * 4):\n",
    "    check = i % 4\n",
    "    if check == 0 or check == 3:\n",
    "        text = transpose(text) \n",
    "    if check == 2 or check == 3:\n",
    "        text = text[::-1]\n",
    "        text = transpose(text)\n",
    "    text = tilt(text)\n",
    "    if check == 2 or check == 3:\n",
    "        text = transpose(text)\n",
    "        text = text[::-1]\n",
    "    if check == 0 or check == 3:\n",
    "        text = transpose(text) \n",
    "    if check == 3:\n",
    "        pattern = \"\".join([\"\".join(x) for x in text])\n",
    "        if pattern in cache:\n",
    "            offset = cache[pattern]\n",
    "            period = i // 4 - cache[pattern]\n",
    "            cycle = sums[offset:offset + period]\n",
    "            print(offset, period, cycle)\n",
    "            answer = cycle[(result_cycles - offset - 1) % period]\n",
    "            print(answer)\n",
    "            break\n",
    "        cache[pattern] = i // 4\n",
    "        load = get_load(text)\n",
    "        sums.append(load)"
   ]
  }
 ],
 "metadata": {
  "kernelspec": {
   "display_name": "Python 3",
   "language": "python",
   "name": "python3"
  },
  "language_info": {
   "codemirror_mode": {
    "name": "ipython",
    "version": 3
   },
   "file_extension": ".py",
   "mimetype": "text/x-python",
   "name": "python",
   "nbconvert_exporter": "python",
   "pygments_lexer": "ipython3",
   "version": "3.10.12"
  }
 },
 "nbformat": 4,
 "nbformat_minor": 2
}
