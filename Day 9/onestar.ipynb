{
 "cells": [
  {
   "cell_type": "code",
   "execution_count": 26,
   "metadata": {},
   "outputs": [
    {
     "name": "stdout",
     "output_type": "stream",
     "text": [
      "1980437560\n"
     ]
    }
   ],
   "source": [
    "text = open(\"input.txt\").read().split(\"\\n\")\n",
    "text = [[int(y) for y in x.split(\" \")] for x in text]\n",
    "result = 0\n",
    "for history in text:\n",
    "    stack = []\n",
    "    numbers = history\n",
    "    while(True):\n",
    "        differences = []\n",
    "        all_zeros = True\n",
    "        for i, num in enumerate(numbers[:-1]):\n",
    "            diff = numbers[i + 1] - numbers[i]\n",
    "            if diff != 0:\n",
    "                all_zeros = False\n",
    "            differences.append(diff)\n",
    "        stack.append(numbers[-1])\n",
    "        if(all_zeros):\n",
    "            stack.append(0)\n",
    "            break\n",
    "        numbers = differences\n",
    "    answer = 0\n",
    "    for num in stack[::-1]:\n",
    "        answer += num\n",
    "    result += answer\n",
    "print(result)\n"
   ]
  }
 ],
 "metadata": {
  "kernelspec": {
   "display_name": "Python 3",
   "language": "python",
   "name": "python3"
  },
  "language_info": {
   "codemirror_mode": {
    "name": "ipython",
    "version": 3
   },
   "file_extension": ".py",
   "mimetype": "text/x-python",
   "name": "python",
   "nbconvert_exporter": "python",
   "pygments_lexer": "ipython3",
   "version": "3.10.12"
  }
 },
 "nbformat": 4,
 "nbformat_minor": 2
}
