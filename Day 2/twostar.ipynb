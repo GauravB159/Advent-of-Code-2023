{
 "cells": [
  {
   "cell_type": "code",
   "execution_count": 2,
   "metadata": {},
   "outputs": [
    {
     "name": "stdout",
     "output_type": "stream",
     "text": [
      "69629\n"
     ]
    }
   ],
   "source": [
    "data = open(\"input.txt\").read().split(\"\\n\")\n",
    "data = [x.split(\": \")[1] for x in data]\n",
    "data = [x.split(\";\") for x in data]\n",
    "games = [[{z.strip().split(\" \")[1]: int(z.strip().split(\" \")[0]) for z in y.split(\", \")} for y in x] for x in data]\n",
    "limit = {\"red\": 12, \"green\": 13, \"blue\": 14}\n",
    "power = 0\n",
    "for id, game in enumerate(games):\n",
    "    maxi = {\n",
    "        \"blue\": 0,\n",
    "        \"green\": 0,\n",
    "        \"red\": 0\n",
    "    }\n",
    "    for turn in game:\n",
    "        for key in maxi:\n",
    "            if key in turn:\n",
    "                maxi[key] = max(turn[key], maxi[key])\n",
    "    currpower = 1\n",
    "    for key in limit:\n",
    "        currpower *= maxi[key]\n",
    "            \n",
    "    power += currpower\n",
    "print(power)"
   ]
  }
 ],
 "metadata": {
  "kernelspec": {
   "display_name": "Python 3",
   "language": "python",
   "name": "python3"
  },
  "language_info": {
   "codemirror_mode": {
    "name": "ipython",
    "version": 3
   },
   "file_extension": ".py",
   "mimetype": "text/x-python",
   "name": "python",
   "nbconvert_exporter": "python",
   "pygments_lexer": "ipython3",
   "version": "3.10.12"
  }
 },
 "nbformat": 4,
 "nbformat_minor": 2
}
