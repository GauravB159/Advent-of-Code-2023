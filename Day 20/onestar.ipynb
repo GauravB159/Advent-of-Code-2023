{
 "cells": [
  {
   "cell_type": "code",
   "execution_count": 289,
   "metadata": {},
   "outputs": [],
   "source": [
    "class Flipflop:\n",
    "    stored = 0\n",
    "    def __init__(self, destinations, name) -> None:\n",
    "        self.destinations = destinations\n",
    "        self.name = name\n",
    "        pass\n",
    "    \n",
    "    def send_pulse(self, input, source, queue):\n",
    "        if not input:\n",
    "            self.stored = (self.stored + 1) % 2\n",
    "            for destination in self.destinations:\n",
    "                queue.append((destination, self.stored, self.name))\n",
    "        return None"
   ]
  },
  {
   "cell_type": "code",
   "execution_count": 290,
   "metadata": {},
   "outputs": [],
   "source": [
    "class Broadcaster:\n",
    "    def __init__(self, destinations) -> None:\n",
    "        self.destinations = destinations\n",
    "        pass"
   ]
  },
  {
   "cell_type": "code",
   "execution_count": 291,
   "metadata": {},
   "outputs": [],
   "source": [
    "class Conjunction:\n",
    "    def __init__(self, destinations, name) -> None:\n",
    "        self.destinations = destinations\n",
    "        self.sources = []\n",
    "        self.name = name\n",
    "        self.memory = {}\n",
    "        pass\n",
    "\n",
    "    def add_source(self, source):\n",
    "        self.sources.append(source)\n",
    "        self.memory[source] = 0\n",
    "    \n",
    "    def send_pulse(self, input, source, queue):\n",
    "        self.memory[source] = input\n",
    "        if all([x == 1 for x in self.memory.values()]):\n",
    "            value = 0\n",
    "        else:\n",
    "            value = 1\n",
    "        for destination in self.destinations:\n",
    "            queue.append((destination, value, self.name))"
   ]
  },
  {
   "cell_type": "code",
   "execution_count": 292,
   "metadata": {},
   "outputs": [],
   "source": [
    "text = open(\"input.txt\").read().split(\"\\n\")\n",
    "text = [x.split(\" -> \") for x in text]\n",
    "\n",
    "modules = {}\n",
    "\n",
    "for module in text:\n",
    "    if module[0] == 'broadcaster':\n",
    "        broadcaster = Broadcaster(module[1].split(\", \"))\n",
    "    elif module[0][0] == '%':\n",
    "        modules[module[0][1:]] = Flipflop(module[1].split(\", \"), module[0][1:])\n",
    "    elif module[0][0] == '&':\n",
    "        modules[module[0][1:]] = Conjunction(module[1].split(\", \"), module[0][1:])\n",
    "\n",
    "for module in modules:\n",
    "    flipflop = modules[module]\n",
    "    for destination in flipflop.destinations:\n",
    "        if destination in modules and isinstance(modules[destination], Conjunction):\n",
    "            modules[destination].add_source(module)\n",
    "\n",
    "modules['rx'] = Flipflop([], \"rx\")"
   ]
  },
  {
   "cell_type": "code",
   "execution_count": 293,
   "metadata": {},
   "outputs": [
    {
     "name": "stdout",
     "output_type": "stream",
     "text": [
      "18548 45383 841763884\n"
     ]
    }
   ],
   "source": [
    "count = 0\n",
    "limit = 1000\n",
    "queue = []\n",
    "low_count = 0\n",
    "high_count = 0\n",
    "while(True):\n",
    "    # print(count, queue, high_count, low_count)\n",
    "    if len(queue) == 0:\n",
    "        if count >= limit:\n",
    "            break\n",
    "        count += 1\n",
    "        low_count += 1\n",
    "        for destination in broadcaster.destinations:\n",
    "            low_count += 1\n",
    "            modules[destination].send_pulse(0, 'broadcaster', queue)\n",
    "    else:\n",
    "        next_module, pulse, source = queue.pop(0)\n",
    "        if pulse:\n",
    "            high_count += 1\n",
    "        else:\n",
    "            low_count += 1\n",
    "        modules[next_module].send_pulse(pulse, source, queue)\n",
    "print(low_count, high_count, low_count * high_count)"
   ]
  }
 ],
 "metadata": {
  "kernelspec": {
   "display_name": "Python 3",
   "language": "python",
   "name": "python3"
  },
  "language_info": {
   "codemirror_mode": {
    "name": "ipython",
    "version": 3
   },
   "file_extension": ".py",
   "mimetype": "text/x-python",
   "name": "python",
   "nbconvert_exporter": "python",
   "pygments_lexer": "ipython3",
   "version": "3.10.12"
  }
 },
 "nbformat": 4,
 "nbformat_minor": 2
}
