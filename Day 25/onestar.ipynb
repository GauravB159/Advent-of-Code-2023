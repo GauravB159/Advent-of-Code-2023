{
 "cells": [
  {
   "cell_type": "code",
   "execution_count": 488,
   "metadata": {},
   "outputs": [
    {
     "name": "stdout",
     "output_type": "stream",
     "text": [
      "Edges to be removed:  {('zcp', 'zjm'), ('nsk', 'rsg'), ('jks', 'rfg')}\n"
     ]
    }
   ],
   "source": [
    "import random\n",
    "\n",
    "edges = [0] * 20\n",
    "\n",
    "while(len(edges) > 3):\n",
    "    text = open(\"input.txt\").read().split(\"\\n\")\n",
    "    text = [x.split(\": \") for x in text]\n",
    "    text = {x[0]: {y: set([tuple(sorted((x[0], y)))]) for y in x[1].split(\" \")} for x in text}\n",
    "\n",
    "    for key in list(text.keys()):\n",
    "        for vx in text[key]:\n",
    "            if vx not in text:\n",
    "                text[vx] = {}\n",
    "            text[vx][key] = set([tuple(sorted((vx, key)))])\n",
    "\n",
    "    # print(text)\n",
    "    while len(text) > 2:\n",
    "        lv = random.choice(list(text.keys()))\n",
    "        rv = random.choice(list(text[lv].keys()))\n",
    "        lvs = list(text[lv])\n",
    "        rvs = list(text[rv])\n",
    "        for vx in lvs:\n",
    "            if not text[vx].get(f'{lv}-{rv}', False):\n",
    "                text[vx][f'{lv}-{rv}'] = set()\n",
    "            text[vx][f'{lv}-{rv}'] = text[vx][f'{lv}-{rv}'].union(text[vx][lv])\n",
    "            del text[vx][lv]\n",
    "        for vx in rvs:\n",
    "            if not text[vx].get(f'{lv}-{rv}', False):\n",
    "                text[vx][f'{lv}-{rv}'] = set()\n",
    "            text[vx][f'{lv}-{rv}'] = text[vx][f'{lv}-{rv}'].union(text[vx][rv])\n",
    "            del text[vx][rv]\n",
    "        text[f'{lv}-{rv}'] = {}\n",
    "        for vx in text[lv]:\n",
    "            if not text[f'{lv}-{rv}'].get(vx, False):\n",
    "                text[f'{lv}-{rv}'][vx] = set()\n",
    "            text[f'{lv}-{rv}'][vx] = text[f'{lv}-{rv}'][vx].union(text[lv][vx])\n",
    "            \n",
    "        for vx in text[rv]:\n",
    "            if not text[f'{lv}-{rv}'].get(vx, False):\n",
    "                text[f'{lv}-{rv}'][vx] = set()\n",
    "            # print(text[rv][vx], text[f'{lv}-{rv}'][vx])\n",
    "            text[f'{lv}-{rv}'][vx] = text[f'{lv}-{rv}'][vx].union(text[rv][vx])\n",
    "            # print(text[rv][vx], text[f'{lv}-{rv}'][vx])\n",
    "        # print(text[f'{lv}-{rv}'])\n",
    "        del text[f'{lv}-{rv}'][f'{lv}-{rv}']\n",
    "        del text[lv]\n",
    "        del text[rv]\n",
    "    lgroup = list(text.keys())[0]\n",
    "    rgroup = list(text.keys())[1]\n",
    "    edges = set(list(list(text[lgroup].values())[0]))\n",
    "    edges.union(list(text[rgroup].values())[0])\n",
    "\n",
    "print(\"Edges to be removed: \", edges)"
   ]
  },
  {
   "cell_type": "code",
   "execution_count": 489,
   "metadata": {},
   "outputs": [
    {
     "name": "stdout",
     "output_type": "stream",
     "text": [
      "{'zjm': 1, 'snb': 1, 'gbn': 1, 'kmd': 1, 'bfc': 1}\n",
      "{'mdx': 1, 'rkr': 1, 'tvz': 1}\n",
      "{'qlg': 1, 'drj': 1, 'tlq': 1, 'rfg': 1}\n",
      "544523\n"
     ]
    }
   ],
   "source": [
    "text = open(\"input.txt\").read().split(\"\\n\")\n",
    "text = [x.split(\": \") for x in text]\n",
    "text = {x[0]: {y:1 for y in x[1].split(\" \")} for x in text}\n",
    "\n",
    "for edge in edges:\n",
    "    print(text[edge[0]])\n",
    "    if text.get(edge[0], {}).get(edge[1], False):\n",
    "        del text[edge[0]][edge[1]]\n",
    "    if text.get(edge[1], {}).get(edge[0], False):\n",
    "        del text[edge[1]][edge[0]]\n",
    "    \n",
    "for key in list(text.keys()):\n",
    "    for vx in text[key]:\n",
    "        if vx not in text:\n",
    "            text[vx] = {}\n",
    "        text[vx][key] = 1\n",
    "\n",
    "visited = {}\n",
    "\n",
    "def traverse(point):\n",
    "    if visited.get(point, False):\n",
    "        return 0\n",
    "    visited[point] = True\n",
    "    total = 1\n",
    "    for point in text[point]:\n",
    "        total += traverse(point)\n",
    "    return total\n",
    "\n",
    "left = traverse(list(text.keys())[0])\n",
    "right = traverse(list(set(text.keys()).difference(set(visited.keys())))[0])\n",
    "print(left * right)"
   ]
  }
 ],
 "metadata": {
  "kernelspec": {
   "display_name": "Python 3",
   "language": "python",
   "name": "python3"
  },
  "language_info": {
   "codemirror_mode": {
    "name": "ipython",
    "version": 3
   },
   "file_extension": ".py",
   "mimetype": "text/x-python",
   "name": "python",
   "nbconvert_exporter": "python",
   "pygments_lexer": "ipython3",
   "version": "3.10.12"
  }
 },
 "nbformat": 4,
 "nbformat_minor": 2
}
