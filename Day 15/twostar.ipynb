{
 "cells": [
  {
   "cell_type": "code",
   "execution_count": 8,
   "metadata": {},
   "outputs": [
    {
     "name": "stdout",
     "output_type": "stream",
     "text": [
      "258826\n"
     ]
    }
   ],
   "source": [
    "text = open(\"input.txt\").read().split(\",\")\n",
    "boxes = {}\n",
    "for step in text:\n",
    "    c_val = 0\n",
    "    idx = -1\n",
    "    for char in step:\n",
    "        idx += 1\n",
    "        if char == '=' or char == '-':\n",
    "            break\n",
    "        c_val += ord(char)\n",
    "        c_val *= 17\n",
    "        c_val = c_val % 256\n",
    "    if c_val not in boxes:\n",
    "        boxes[c_val] = {}\n",
    "    if step[idx] == \"=\":\n",
    "        boxes[c_val][step[:idx]] = step[idx + 1]\n",
    "    elif step[:idx] in boxes[c_val]:\n",
    "        del boxes[c_val][step[:idx]]\n",
    "\n",
    "\n",
    "focal_sum = {}\n",
    "for box_number, box in enumerate(boxes.keys()):\n",
    "    for lens_number, lens in enumerate(boxes[box].keys()):\n",
    "        if lens not in focal_sum:\n",
    "            focal_sum[lens] = 0\n",
    "        focal_sum[lens] += (box + 1) * (lens_number + 1) * int(boxes[box][lens])\n",
    "\n",
    "print(sum(focal_sum.values()))"
   ]
  }
 ],
 "metadata": {
  "kernelspec": {
   "display_name": "Python 3",
   "language": "python",
   "name": "python3"
  },
  "language_info": {
   "codemirror_mode": {
    "name": "ipython",
    "version": 3
   },
   "file_extension": ".py",
   "mimetype": "text/x-python",
   "name": "python",
   "nbconvert_exporter": "python",
   "pygments_lexer": "ipython3",
   "version": "3.10.12"
  }
 },
 "nbformat": 4,
 "nbformat_minor": 2
}
