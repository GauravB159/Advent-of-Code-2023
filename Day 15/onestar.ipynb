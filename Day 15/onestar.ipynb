{
 "cells": [
  {
   "cell_type": "code",
   "execution_count": 23,
   "metadata": {},
   "outputs": [
    {
     "name": "stdout",
     "output_type": "stream",
     "text": [
      "513214\n"
     ]
    }
   ],
   "source": [
    "text = open(\"input.txt\").read().split(\",\")\n",
    "sum = 0\n",
    "for step in text:\n",
    "    c_val = 0\n",
    "    for char in step:\n",
    "        c_val += ord(char)\n",
    "        c_val *= 17\n",
    "        c_val = c_val % 256\n",
    "    sum += c_val\n",
    "print(sum)"
   ]
  }
 ],
 "metadata": {
  "kernelspec": {
   "display_name": "Python 3",
   "language": "python",
   "name": "python3"
  },
  "language_info": {
   "codemirror_mode": {
    "name": "ipython",
    "version": 3
   },
   "file_extension": ".py",
   "mimetype": "text/x-python",
   "name": "python",
   "nbconvert_exporter": "python",
   "pygments_lexer": "ipython3",
   "version": "3.10.12"
  }
 },
 "nbformat": 4,
 "nbformat_minor": 2
}
