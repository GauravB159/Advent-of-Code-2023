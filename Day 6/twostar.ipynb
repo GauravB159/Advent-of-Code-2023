{
 "cells": [
  {
   "cell_type": "code",
   "execution_count": 36,
   "metadata": {},
   "outputs": [
    {
     "name": "stdout",
     "output_type": "stream",
     "text": [
      "42515755\n"
     ]
    }
   ],
   "source": [
    "text = open(\"input.txt\").read().split(\"\\n\")\n",
    "times = text[0].split(\":\")[1].strip().split(\" \")\n",
    "times = [x for x in times if x]\n",
    "distances = text[1].split(\":\")[1].strip().split(\" \")\n",
    "distances = [x for x in distances if x]\n",
    "result = 1\n",
    "time = int(\"\".join(times))\n",
    "distance = int(\"\".join(distances))\n",
    "left = 0\n",
    "ctr = time // 2\n",
    "right = time // 2\n",
    "while(left <= right):\n",
    "    if(right - left < 2):\n",
    "        break\n",
    "    center = (left + right) // 2\n",
    "    hold = time - center\n",
    "    speed = hold\n",
    "    remaining_time = time - hold\n",
    "    travelled_distance = speed * remaining_time\n",
    "    if travelled_distance > distance:\n",
    "        right = center\n",
    "    else:\n",
    "        left = center\n",
    "print(2 * (ctr - left) - (right - left))"
   ]
  }
 ],
 "metadata": {
  "kernelspec": {
   "display_name": "Python 3",
   "language": "python",
   "name": "python3"
  },
  "language_info": {
   "codemirror_mode": {
    "name": "ipython",
    "version": 3
   },
   "file_extension": ".py",
   "mimetype": "text/x-python",
   "name": "python",
   "nbconvert_exporter": "python",
   "pygments_lexer": "ipython3",
   "version": "3.10.12"
  }
 },
 "nbformat": 4,
 "nbformat_minor": 2
}
