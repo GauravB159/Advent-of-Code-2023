{
 "cells": [
  {
   "cell_type": "code",
   "execution_count": 16,
   "metadata": {},
   "outputs": [
    {
     "name": "stdout",
     "output_type": "stream",
     "text": [
      "474012\n"
     ]
    }
   ],
   "source": [
    "text = open(\"input.txt\").read().split(\"\\n\")\n",
    "times = text[0].split(\":\")[1].strip().split(\" \")\n",
    "times = [int(x) for x in times if x]\n",
    "distances = text[1].split(\":\")[1].strip().split(\" \")\n",
    "distances = [int(x) for x in distances if x]\n",
    "result = 1\n",
    "for index, time in enumerate(times):\n",
    "    distance = distances[index]\n",
    "    count = 0\n",
    "    for hold in range(time + 1):\n",
    "        speed = hold\n",
    "        remaining_time = time - hold\n",
    "        travelled_distance = speed * remaining_time\n",
    "        if travelled_distance > distance:\n",
    "            count += 1\n",
    "    result *= count\n",
    "print(result)"
   ]
  }
 ],
 "metadata": {
  "kernelspec": {
   "display_name": "Python 3",
   "language": "python",
   "name": "python3"
  },
  "language_info": {
   "codemirror_mode": {
    "name": "ipython",
    "version": 3
   },
   "file_extension": ".py",
   "mimetype": "text/x-python",
   "name": "python",
   "nbconvert_exporter": "python",
   "pygments_lexer": "ipython3",
   "version": "3.10.12"
  }
 },
 "nbformat": 4,
 "nbformat_minor": 2
}
