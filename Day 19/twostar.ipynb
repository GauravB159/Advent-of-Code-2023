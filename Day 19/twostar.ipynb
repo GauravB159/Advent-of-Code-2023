{
 "cells": [
  {
   "cell_type": "code",
   "execution_count": 304,
   "metadata": {},
   "outputs": [
    {
     "name": "stdout",
     "output_type": "stream",
     "text": [
      "132380153677887\n"
     ]
    }
   ],
   "source": [
    "import math\n",
    "\n",
    "text = open(\"input.txt\").read().split(\"\\n\\n\")\n",
    "workflows, parts = text\n",
    "workflows = workflows.split(\"\\n\")\n",
    "parts = parts.split(\"\\n\")\n",
    "parts = [x[1:-1].split(\",\") for x in parts]\n",
    "parts = [{x.split(\"=\")[0]: int(x.split(\"=\")[1]) for x in y} for y in parts]\n",
    "workflows = {x.split(\"{\")[0]: x.split(\"{\")[1][:-1].split(\",\") for x in workflows}\n",
    "for workflow in workflows:\n",
    "    steps = []\n",
    "    for step in workflows[workflow]:\n",
    "        if \":\" in step:\n",
    "            step = (step[0], step[1], int(step[2:].split(\":\")[0]), step[2:].split(\":\")[1])\n",
    "        else:\n",
    "            step = ('1', '==', '1', step)\n",
    "        steps.append(step)\n",
    "    workflows[workflow] = steps\n",
    "\n",
    "def process_step(idx, workflows, parts):\n",
    "    if idx == 'A':\n",
    "        return math.prod([x[1] - x[0] + 1 for x in parts.values()])\n",
    "    elif idx == 'R':\n",
    "        return 0\n",
    "    steps = workflows[idx]\n",
    "    remaining_parts = parts.copy()\n",
    "    result = 0\n",
    "    for step in steps:\n",
    "        variable = step[0]\n",
    "        operation = step[1]\n",
    "        value = step[2]\n",
    "        new_parts = remaining_parts.copy()\n",
    "        if variable != '1':\n",
    "            if value > parts[variable][0] and value < parts[variable][1]:\n",
    "                if operation == '<':\n",
    "                    new_parts[variable] = (remaining_parts[variable][0], value - 1)\n",
    "                    remaining_parts[variable] = (value, remaining_parts[variable][1])\n",
    "                else:\n",
    "                    new_parts[variable] = (value + 1, remaining_parts[variable][1])\n",
    "                    remaining_parts[variable] = (remaining_parts[variable][0], value)\n",
    "            result += process_step(step[3], workflows, new_parts)\n",
    "        else:\n",
    "            result += process_step(step[3], workflows, remaining_parts)\n",
    "    return result\n",
    "\n",
    "first = \"in\"\n",
    "parts = {\n",
    "    'x': (1, 4000),\n",
    "    'm': (1, 4000),\n",
    "    'a': (1, 4000),\n",
    "    's': (1, 4000)\n",
    "}\n",
    "result = process_step(first, workflows, parts)\n",
    "print(result)"
   ]
  }
 ],
 "metadata": {
  "kernelspec": {
   "display_name": "Python 3",
   "language": "python",
   "name": "python3"
  },
  "language_info": {
   "codemirror_mode": {
    "name": "ipython",
    "version": 3
   },
   "file_extension": ".py",
   "mimetype": "text/x-python",
   "name": "python",
   "nbconvert_exporter": "python",
   "pygments_lexer": "ipython3",
   "version": "3.10.12"
  }
 },
 "nbformat": 4,
 "nbformat_minor": 2
}
