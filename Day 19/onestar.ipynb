{
 "cells": [
  {
   "cell_type": "code",
   "execution_count": 55,
   "metadata": {},
   "outputs": [],
   "source": [
    "import json\n",
    "\n",
    "text = open(\"input.txt\").read().split(\"\\n\\n\")\n",
    "workflows, parts = text\n",
    "workflows = workflows.split(\"\\n\")\n",
    "parts = parts.split(\"\\n\")\n",
    "parts = [x[1:-1].split(\",\") for x in parts]\n",
    "parts = [{x.split(\"=\")[0]: int(x.split(\"=\")[1]) for x in y} for y in parts]\n",
    "workflows = {x.split(\"{\")[0]: x.split(\"{\")[1][:-1].split(\",\") for x in workflows}\n",
    "for workflow in workflows:\n",
    "    steps = []\n",
    "    for step in workflows[workflow]:\n",
    "        if \":\" in step:\n",
    "            step = (step[0], step[1], int(step[2:].split(\":\")[0]), step[2:].split(\":\")[1])\n",
    "        else:\n",
    "            step = ('1', '==', '1', step)\n",
    "        steps.append(step)\n",
    "    workflows[workflow] = steps"
   ]
  },
  {
   "cell_type": "code",
   "execution_count": 56,
   "metadata": {},
   "outputs": [],
   "source": [
    "def process_step(idx, workflows, part):\n",
    "    if idx == 'A':\n",
    "        return True\n",
    "    elif idx == 'R':\n",
    "        return False\n",
    "    steps = workflows[idx]\n",
    "    for step in steps:\n",
    "        if step[0] == '1':\n",
    "            return process_step(step[3], workflows, part)\n",
    "        code = eval(f'{part[step[0]]} {step[1]} {step[2]}')\n",
    "        if code: return process_step(step[3], workflows, part)"
   ]
  },
  {
   "cell_type": "code",
   "execution_count": 57,
   "metadata": {},
   "outputs": [
    {
     "name": "stdout",
     "output_type": "stream",
     "text": [
      "476889\n"
     ]
    }
   ],
   "source": [
    "first = \"in\"\n",
    "result = 0\n",
    "for part in parts:\n",
    "    if(process_step(first, workflows, part)):\n",
    "        result += sum(list(part.values()))\n",
    "\n",
    "print(result)"
   ]
  }
 ],
 "metadata": {
  "kernelspec": {
   "display_name": "Python 3",
   "language": "python",
   "name": "python3"
  },
  "language_info": {
   "codemirror_mode": {
    "name": "ipython",
    "version": 3
   },
   "file_extension": ".py",
   "mimetype": "text/x-python",
   "name": "python",
   "nbconvert_exporter": "python",
   "pygments_lexer": "ipython3",
   "version": "3.10.12"
  }
 },
 "nbformat": 4,
 "nbformat_minor": 2
}
