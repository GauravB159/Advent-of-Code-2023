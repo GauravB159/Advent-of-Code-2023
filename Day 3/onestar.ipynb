{
 "cells": [
  {
   "cell_type": "code",
   "execution_count": 51,
   "metadata": {},
   "outputs": [
    {
     "name": "stdout",
     "output_type": "stream",
     "text": [
      "540131\n"
     ]
    }
   ],
   "source": [
    "text = open(\"input.txt\").read().split(\"\\n\")\n",
    "data = [list(x) for x in text]\n",
    "numMap = {}\n",
    "summation = 0\n",
    "for y, line in enumerate(data):\n",
    "    number = ''\n",
    "    hasSymbolNeighbor = False\n",
    "    for x, char in enumerate(line):\n",
    "        if char.isdigit():\n",
    "            number += char\n",
    "            for testX in [-1, 0, 1]:\n",
    "                for testY in [-1, 0, 1]:\n",
    "                    try:\n",
    "                        if((not data[y + testY][x + testX].isdigit()) and data[y + testY][x + testX] != \".\"):\n",
    "                            hasSymbolNeighbor = True\n",
    "                    except:\n",
    "                        continue\n",
    "        elif len(number) > 0:\n",
    "            final = int(number)\n",
    "            number = ''\n",
    "            if hasSymbolNeighbor:\n",
    "                summation += final\n",
    "            hasSymbolNeighbor = False\n",
    "    if(hasSymbolNeighbor):\n",
    "        final = int(number)\n",
    "        summation += final\n",
    "print(summation)"
   ]
  }
 ],
 "metadata": {
  "kernelspec": {
   "display_name": "Python 3",
   "language": "python",
   "name": "python3"
  },
  "language_info": {
   "codemirror_mode": {
    "name": "ipython",
    "version": 3
   },
   "file_extension": ".py",
   "mimetype": "text/x-python",
   "name": "python",
   "nbconvert_exporter": "python",
   "pygments_lexer": "ipython3",
   "version": "3.10.12"
  }
 },
 "nbformat": 4,
 "nbformat_minor": 2
}
