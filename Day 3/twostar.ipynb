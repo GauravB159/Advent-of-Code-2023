{
 "cells": [
  {
   "cell_type": "code",
   "execution_count": 8,
   "metadata": {},
   "outputs": [
    {
     "name": "stdout",
     "output_type": "stream",
     "text": [
      "86879020\n"
     ]
    }
   ],
   "source": [
    "import operator\n",
    "import functools\n",
    "\n",
    "text = open(\"input.txt\").read().split(\"\\n\")\n",
    "data = [list(x) for x in text]\n",
    "gearMap = {}\n",
    "summation = 0\n",
    "for y, line in enumerate(data):\n",
    "    number = ''\n",
    "    gearIndex = False\n",
    "    for x, char in enumerate(line):\n",
    "        if char.isdigit():\n",
    "            number += char\n",
    "            for testX in [-1, 0, 1]:\n",
    "                for testY in [-1, 0, 1]:\n",
    "                    try:\n",
    "                        if(data[y + testY][x + testX] == \"*\"):\n",
    "                            if(f\"{y + testY}-{x + testX}\" not in gearMap):\n",
    "                                gearMap[f\"{y + testY}-{x + testX}\"] = []\n",
    "                            gearIndex = f\"{y + testY}-{x + testX}\"\n",
    "                    except:\n",
    "                        continue\n",
    "        elif len(number) > 0:\n",
    "            final = int(number)\n",
    "            number = ''\n",
    "            if gearIndex:\n",
    "                gearMap[gearIndex].append(final)\n",
    "            gearIndex = False\n",
    "    if(gearIndex):\n",
    "        final = int(number)\n",
    "        gearMap[gearIndex].append(final)\n",
    "\n",
    "gears = [gearMap[x] for x in gearMap if len(gearMap[x]) > 1]\n",
    "gearRatios = [functools.reduce(operator.mul, x, 1) for x in gears]\n",
    "result = sum(gearRatios)\n",
    "print(result)"
   ]
  }
 ],
 "metadata": {
  "kernelspec": {
   "display_name": "Python 3",
   "language": "python",
   "name": "python3"
  },
  "language_info": {
   "codemirror_mode": {
    "name": "ipython",
    "version": 3
   },
   "file_extension": ".py",
   "mimetype": "text/x-python",
   "name": "python",
   "nbconvert_exporter": "python",
   "pygments_lexer": "ipython3",
   "version": "3.10.12"
  }
 },
 "nbformat": 4,
 "nbformat_minor": 2
}
