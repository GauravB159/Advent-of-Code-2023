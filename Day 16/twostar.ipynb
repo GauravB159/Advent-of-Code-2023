{
 "cells": [
  {
   "cell_type": "code",
   "execution_count": 37,
   "metadata": {},
   "outputs": [
    {
     "data": {
      "text/plain": [
       "7793"
      ]
     },
     "execution_count": 37,
     "metadata": {},
     "output_type": "execute_result"
    }
   ],
   "source": [
    "text = open(\"input.txt\").read().split(\"\\n\")\n",
    "text = [list(x) for x in text]\n",
    "grid = {}\n",
    "for i, row in enumerate(text):\n",
    "    for j, col in enumerate(row):\n",
    "        grid[(i, j)] = col\n",
    "\n",
    "def tsum(one, two):\n",
    "    return (one[0] + two[0], one[1] + two[1])\n",
    "\n",
    "\n",
    "def init_traverse(current, direction):\n",
    "    visited = {}\n",
    "    visited_break = {}\n",
    "    stack = []\n",
    "    stack.append((current, direction))\n",
    "    while(len(stack) > 0):\n",
    "        current, direction = stack.pop()\n",
    "        next_coord = tsum(current, direction)\n",
    "        if next_coord not in grid:\n",
    "            continue\n",
    "        if next_coord not in visited:\n",
    "            visited[next_coord] = 0\n",
    "        if (next_coord, direction) not in visited_break:\n",
    "            visited_break[(next_coord, direction)] = 1\n",
    "        else:\n",
    "            continue\n",
    "        visited[next_coord] += 1\n",
    "        next_point = grid[next_coord]\n",
    "        if next_point == '.':\n",
    "            stack.append((next_coord, direction))\n",
    "        elif next_point == '/':\n",
    "            stack.append((next_coord, (direction[1] * -1, direction[0] * -1)))\n",
    "        elif next_point == '\\\\':\n",
    "            stack.append((next_coord, (direction[1], direction[0])))\n",
    "        elif next_point == '|':\n",
    "            if direction[1] != 0:\n",
    "                stack.append((next_coord, (1, 0)))\n",
    "                stack.append((next_coord, (-1, 0)))\n",
    "            else:\n",
    "                stack.append((next_coord, direction))\n",
    "        elif next_point == '-':\n",
    "            if direction[0] != 0:\n",
    "                stack.append(((next_coord, (0, 1))))\n",
    "                stack.append((next_coord, (0, -1)))\n",
    "            else:\n",
    "                stack.append((next_coord, direction))\n",
    "    return len(visited.keys())\n",
    "\n",
    "\n",
    "values = []\n",
    "for i in range(len(text)):\n",
    "    values.append(init_traverse((-1, i), (1, 0)))\n",
    "    values.append(init_traverse((len(text), i), (-1, 0)))\n",
    "\n",
    "for i in range(len(text[0])):\n",
    "    values.append(init_traverse((i, -1), (0, 1)))\n",
    "    values.append(init_traverse((i, len(text[0])), (0, -1)))\n",
    "\n",
    "max(values)"
   ]
  }
 ],
 "metadata": {
  "kernelspec": {
   "display_name": "Python 3",
   "language": "python",
   "name": "python3"
  },
  "language_info": {
   "codemirror_mode": {
    "name": "ipython",
    "version": 3
   },
   "file_extension": ".py",
   "mimetype": "text/x-python",
   "name": "python",
   "nbconvert_exporter": "python",
   "pygments_lexer": "ipython3",
   "version": "3.10.12"
  }
 },
 "nbformat": 4,
 "nbformat_minor": 2
}
