{
 "cells": [
  {
   "cell_type": "code",
   "execution_count": 36,
   "metadata": {},
   "outputs": [
    {
     "name": "stdout",
     "output_type": "stream",
     "text": [
      "7562\n"
     ]
    }
   ],
   "source": [
    "text = open(\"input.txt\").read().split(\"\\n\")\n",
    "text = [list(x) for x in text]\n",
    "grid = {}\n",
    "for i, row in enumerate(text):\n",
    "    for j, col in enumerate(row):\n",
    "        grid[(i, j)] = col\n",
    "\n",
    "start = (0, -1)\n",
    "\n",
    "visited = {}\n",
    "\n",
    "visited_break = {}\n",
    "\n",
    "def tsum(one, two):\n",
    "    return (one[0] + two[0], one[1] + two[1])\n",
    "\n",
    "def traverse(current, direction):\n",
    "    next_coord = tsum(current, direction)\n",
    "    if next_coord not in grid:\n",
    "        return\n",
    "    if next_coord not in visited:\n",
    "        visited[next_coord] = 0\n",
    "    if (next_coord, direction) not in visited_break:\n",
    "        visited_break[(next_coord, direction)] = 1\n",
    "    else:\n",
    "        return\n",
    "    visited[next_coord] += 1\n",
    "    next_point = grid[next_coord]\n",
    "    if next_point == '.':\n",
    "        traverse(next_coord, direction)\n",
    "    elif next_point == '/':\n",
    "        traverse(next_coord, (direction[1] * -1, direction[0] * -1))\n",
    "    elif next_point == '\\\\':\n",
    "        traverse(next_coord, (direction[1], direction[0]))\n",
    "    elif next_point == '|':\n",
    "        if direction[1] != 0:\n",
    "            traverse(next_coord, (1, 0))\n",
    "            traverse(next_coord, (-1, 0))\n",
    "        else:\n",
    "            traverse(next_coord, direction)\n",
    "    elif next_point == '-':\n",
    "        if direction[0] != 0:\n",
    "            traverse(next_coord, (0, 1))\n",
    "            traverse(next_coord, (0, -1))\n",
    "        else:\n",
    "            traverse(next_coord, direction)\n",
    "\n",
    "traverse(start, (0, 1))\n",
    "print(len(visited.keys()))"
   ]
  }
 ],
 "metadata": {
  "kernelspec": {
   "display_name": "Python 3",
   "language": "python",
   "name": "python3"
  },
  "language_info": {
   "codemirror_mode": {
    "name": "ipython",
    "version": 3
   },
   "file_extension": ".py",
   "mimetype": "text/x-python",
   "name": "python",
   "nbconvert_exporter": "python",
   "pygments_lexer": "ipython3",
   "version": "3.10.12"
  }
 },
 "nbformat": 4,
 "nbformat_minor": 2
}
