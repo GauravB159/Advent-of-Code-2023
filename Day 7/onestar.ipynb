{
 "cells": [
  {
   "cell_type": "code",
   "execution_count": 35,
   "metadata": {},
   "outputs": [],
   "source": [
    "from functools import cmp_to_key\n",
    "\n",
    "text = open(\"input.txt\").read().split(\"\\n\")\n",
    "text = [x.split(\" \") for x in text]"
   ]
  },
  {
   "cell_type": "code",
   "execution_count": 36,
   "metadata": {},
   "outputs": [],
   "source": [
    "def get_strength(hand):\n",
    "    counts = {}\n",
    "    for card in hand:\n",
    "        if card not in counts:\n",
    "            counts[card] = 0\n",
    "        counts[card] += 1\n",
    "    counts = sorted(counts.values(), reverse=True)\n",
    "    if(counts[0] == 5):\n",
    "        return 6\n",
    "    elif(counts[0] == 4):\n",
    "        return 5\n",
    "    elif(counts[0] == 3 and counts[1] == 2):\n",
    "        return 4\n",
    "    elif(counts[0] == 3):\n",
    "        return 3\n",
    "    elif(counts[0] == 2 and counts[1] == 2):\n",
    "        return 2\n",
    "    elif(counts[0] == 2):\n",
    "        return 1\n",
    "    return 0"
   ]
  },
  {
   "cell_type": "code",
   "execution_count": 37,
   "metadata": {},
   "outputs": [],
   "source": [
    "cardmap = {'A': 14, 'K': 13, 'Q': 12, 'J': 11, 'T': 10, '9': 9, '8': 8, '7': 7, '6': 6, '5': 5, '4': 4, '3': 3, '2': 2, '1': 1}\n",
    "\n",
    "def compare_strength(first_hand, second_hand):\n",
    "    first_strength = get_strength(first_hand[0])\n",
    "    second_strength = get_strength(second_hand[0])\n",
    "    if(first_strength > second_strength): return -1\n",
    "    elif(second_strength > first_strength): return 1\n",
    "    for f, s in zip(list(first_hand[0]), list(second_hand[0])):\n",
    "        if(cardmap[f] > cardmap[s]): return -1\n",
    "        elif(cardmap[s] > cardmap[f]): return 1"
   ]
  },
  {
   "cell_type": "code",
   "execution_count": 38,
   "metadata": {},
   "outputs": [
    {
     "name": "stdout",
     "output_type": "stream",
     "text": [
      "248569531\n"
     ]
    }
   ],
   "source": [
    "sorted_hands = sorted(text, key=cmp_to_key(compare_strength), reverse=True)\n",
    "result = 0\n",
    "for i, hand in enumerate(sorted_hands):\n",
    "    result += (i + 1) * int(hand[1])\n",
    "print(result)"
   ]
  }
 ],
 "metadata": {
  "kernelspec": {
   "display_name": "Python 3",
   "language": "python",
   "name": "python3"
  },
  "language_info": {
   "codemirror_mode": {
    "name": "ipython",
    "version": 3
   },
   "file_extension": ".py",
   "mimetype": "text/x-python",
   "name": "python",
   "nbconvert_exporter": "python",
   "pygments_lexer": "ipython3",
   "version": "3.10.12"
  }
 },
 "nbformat": 4,
 "nbformat_minor": 2
}
