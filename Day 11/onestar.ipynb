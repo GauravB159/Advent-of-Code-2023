{
 "cells": [
  {
   "cell_type": "code",
   "execution_count": 35,
   "metadata": {},
   "outputs": [],
   "source": [
    "def transpose(array):\n",
    "    return [[row[i] for row in array] for i in range(len(array[0]))]"
   ]
  },
  {
   "cell_type": "code",
   "execution_count": 50,
   "metadata": {},
   "outputs": [
    {
     "name": "stdout",
     "output_type": "stream",
     "text": [
      "[(0, 4), (1, 9), (2, 0), (5, 8), (6, 1), (7, 12), (10, 9), (11, 0), (11, 5)]\n",
      "374.0\n"
     ]
    }
   ],
   "source": [
    "text = open(\"input.txt\").read().split(\"\\n\")\n",
    "text = [list(x) for x in text]\n",
    "empty = [[True if x == '.' else False for x in y] for y in text]\n",
    "emptyRows = [i if all(x) else 0 for i, x in enumerate(empty)]\n",
    "emptyRows = [x for x in emptyRows if x]\n",
    "transposed = transpose(text)\n",
    "emptyTransposed = [[True if x == '.' else False for x in y] for y in transposed]\n",
    "emptyColumns = [i if all(x) else 0 for i, x in enumerate(emptyTransposed)]\n",
    "emptyColumns = [x for x in emptyColumns if x]\n",
    "count = 0\n",
    "for row in emptyRows:\n",
    "    row = row + count\n",
    "    text = text[:row] + [['.'] * len(text[0])] + text[row:]\n",
    "    count += 1\n",
    "transposed = transpose(text)\n",
    "count = 0\n",
    "for column in emptyColumns:\n",
    "    column = column + count\n",
    "    transposed = transposed[:column] + [['.'] * len(transposed[0])] + transposed[column:]\n",
    "    count += 1\n",
    "text = transpose(transposed)\n",
    "galaxies = []\n",
    "for i, row in enumerate(text):\n",
    "    for j, column in enumerate(row):\n",
    "        if column == '#':\n",
    "            galaxies.append((i, j))\n",
    "\n",
    "print(galaxies)\n",
    "\n",
    "total_distance = 0\n",
    "for i in galaxies:\n",
    "    for j in galaxies:\n",
    "        distance = abs(i[0] - j[0]) + abs(i[1] - j[1])\n",
    "        total_distance += distance\n",
    "print(total_distance / 2)"
   ]
  }
 ],
 "metadata": {
  "kernelspec": {
   "display_name": "Python 3",
   "language": "python",
   "name": "python3"
  },
  "language_info": {
   "codemirror_mode": {
    "name": "ipython",
    "version": 3
   },
   "file_extension": ".py",
   "mimetype": "text/x-python",
   "name": "python",
   "nbconvert_exporter": "python",
   "pygments_lexer": "ipython3",
   "version": "3.10.12"
  }
 },
 "nbformat": 4,
 "nbformat_minor": 2
}
