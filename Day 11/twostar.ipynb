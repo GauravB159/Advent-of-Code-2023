{
 "cells": [
  {
   "cell_type": "code",
   "execution_count": 3,
   "metadata": {},
   "outputs": [],
   "source": [
    "def transpose(array):\n",
    "    return [[row[i] for row in array] for i in range(len(array[0]))]"
   ]
  },
  {
   "cell_type": "code",
   "execution_count": 38,
   "metadata": {},
   "outputs": [
    {
     "name": "stdout",
     "output_type": "stream",
     "text": [
      "377318892554.0\n"
     ]
    }
   ],
   "source": [
    "text = open(\"input.txt\").read().split(\"\\n\")\n",
    "text = [list(x) for x in text]\n",
    "empty = [[True if x == '.' else False for x in y] for y in text]\n",
    "emptyRows = [i if all(x) else 0 for i, x in enumerate(empty)]\n",
    "emptyRows = [x for x in emptyRows if x]\n",
    "transposed = transpose(text)\n",
    "emptyTransposed = [[True if x == '.' else False for x in y] for y in transposed]\n",
    "emptyColumns = [i if all(x) else 0 for i, x in enumerate(emptyTransposed)]\n",
    "emptyColumns = [x for x in emptyColumns if x]\n",
    "\n",
    "galaxies = []\n",
    "factor = 999999\n",
    "for i, row in enumerate(text):\n",
    "    for j, column in enumerate(row):\n",
    "        if column == '#':\n",
    "            rfactor = 0\n",
    "            for erow in emptyRows:\n",
    "                if i > erow:\n",
    "                    rfactor += factor\n",
    "            cfactor = 0\n",
    "            for ecolumn in emptyColumns:\n",
    "                if j > ecolumn:\n",
    "                    cfactor += factor\n",
    "            galaxies.append((i + rfactor, j + cfactor))\n",
    "\n",
    "total_distance = 0\n",
    "for i in galaxies:\n",
    "    for j in galaxies:\n",
    "        distance = abs(i[0] - j[0]) + abs(i[1] - j[1])\n",
    "        total_distance += distance\n",
    "print(total_distance / 2)"
   ]
  }
 ],
 "metadata": {
  "kernelspec": {
   "display_name": "Python 3",
   "language": "python",
   "name": "python3"
  },
  "language_info": {
   "codemirror_mode": {
    "name": "ipython",
    "version": 3
   },
   "file_extension": ".py",
   "mimetype": "text/x-python",
   "name": "python",
   "nbconvert_exporter": "python",
   "pygments_lexer": "ipython3",
   "version": "3.10.12"
  }
 },
 "nbformat": 4,
 "nbformat_minor": 2
}
