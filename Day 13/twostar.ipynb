{
 "cells": [
  {
   "cell_type": "code",
   "execution_count": 102,
   "metadata": {},
   "outputs": [],
   "source": [
    "def get_mirrored_row(pattern, og_reflection):\n",
    "    for i, _ in enumerate(pattern):\n",
    "        distance = min(i, len(pattern) - i)\n",
    "        if distance == i:\n",
    "            up = pattern[:i]\n",
    "            down = pattern[i:i + distance]\n",
    "        else:\n",
    "            up = pattern[i - distance:i]\n",
    "            down = pattern[i:]\n",
    "        up = ''.join(up)\n",
    "        down = ''.join(down[::-1])\n",
    "        if len(up) > 0 and up == down and i != og_reflection:\n",
    "            return i\n",
    "    return -1"
   ]
  },
  {
   "cell_type": "code",
   "execution_count": 3,
   "metadata": {},
   "outputs": [],
   "source": [
    "def transpose(array):\n",
    "    return [''.join([row[i] for row in array]) for i in range(len(array[0]))]"
   ]
  },
  {
   "cell_type": "code",
   "execution_count": 114,
   "metadata": {},
   "outputs": [],
   "source": [
    "def get_smudged_mirrored_row(pattern):\n",
    "    mapper = {\n",
    "        \".\": \"#\",\n",
    "        \"#\": \".\"\n",
    "    }\n",
    "    og_row_mirror = get_mirrored_row(pattern, None) * 100\n",
    "    og_col_mirror = get_mirrored_row(transpose(pattern), None)\n",
    "    og_reflection = og_row_mirror if og_row_mirror != -100 else og_col_mirror\n",
    "    for i, row in enumerate(pattern):\n",
    "        listed_row = list(row)\n",
    "        for j, value in enumerate(row):\n",
    "            current = value\n",
    "            listed_row[j] = mapper[current]\n",
    "            pattern[i] = ''.join(listed_row)\n",
    "            row_mirror = get_mirrored_row(pattern, og_reflection / 100) * 100\n",
    "            col_mirror = get_mirrored_row(transpose(pattern), og_reflection)\n",
    "            reflection = row_mirror if row_mirror != -100 else col_mirror\n",
    "            if(reflection != og_reflection and reflection >= 0 and og_reflection >= 0):\n",
    "                return reflection\n",
    "            if col_mirror >= 0:\n",
    "                return col_mirror\n",
    "            listed_row[j] = current\n",
    "        pattern[i] = ''.join(listed_row)"
   ]
  },
  {
   "cell_type": "code",
   "execution_count": 115,
   "metadata": {},
   "outputs": [
    {
     "name": "stdout",
     "output_type": "stream",
     "text": [
      "30449\n"
     ]
    }
   ],
   "source": [
    "text = open(\"input.txt\").read().split(\"\\n\\n\")\n",
    "text = [x.split(\"\\n\") for x in text]\n",
    "total = 0\n",
    "for pattern in text:\n",
    "    total += get_smudged_mirrored_row(pattern)\n",
    "\n",
    "print(total)\n"
   ]
  }
 ],
 "metadata": {
  "kernelspec": {
   "display_name": "Python 3",
   "language": "python",
   "name": "python3"
  },
  "language_info": {
   "codemirror_mode": {
    "name": "ipython",
    "version": 3
   },
   "file_extension": ".py",
   "mimetype": "text/x-python",
   "name": "python",
   "nbconvert_exporter": "python",
   "pygments_lexer": "ipython3",
   "version": "3.10.12"
  }
 },
 "nbformat": 4,
 "nbformat_minor": 2
}
