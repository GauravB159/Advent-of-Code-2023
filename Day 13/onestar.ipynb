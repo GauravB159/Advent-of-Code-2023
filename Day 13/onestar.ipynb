{
 "cells": [
  {
   "cell_type": "code",
   "execution_count": 25,
   "metadata": {},
   "outputs": [],
   "source": [
    "def get_mirrored_row(pattern):\n",
    "    for i, _ in enumerate(pattern):\n",
    "        distance = min(i, len(pattern) - i)\n",
    "        if distance == i:\n",
    "            up = pattern[:i]\n",
    "            down = pattern[i:i + distance]\n",
    "        else:\n",
    "            up = pattern[i - distance:i]\n",
    "            down = pattern[i:]\n",
    "        up = ''.join(up)\n",
    "        down = ''.join(down[::-1])\n",
    "        if len(up) > 0 and up == down:\n",
    "            return i\n",
    "    return -1"
   ]
  },
  {
   "cell_type": "code",
   "execution_count": 36,
   "metadata": {},
   "outputs": [],
   "source": [
    "def transpose(array):\n",
    "    return [''.join([row[i] for row in array]) for i in range(len(array[0]))]"
   ]
  },
  {
   "cell_type": "code",
   "execution_count": 42,
   "metadata": {},
   "outputs": [
    {
     "name": "stdout",
     "output_type": "stream",
     "text": [
      "37113\n"
     ]
    }
   ],
   "source": [
    "text = open(\"input.txt\").read().split(\"\\n\\n\")\n",
    "text = [x.split(\"\\n\") for x in text]\n",
    "total_row = 0\n",
    "total_col = 0\n",
    "for pattern in text:\n",
    "    row_mirror = get_mirrored_row(pattern)\n",
    "    col_mirror = get_mirrored_row(transpose(pattern))\n",
    "    if row_mirror > 0:\n",
    "        total_row += row_mirror\n",
    "    if col_mirror > 0:\n",
    "        total_col += col_mirror\n",
    "\n",
    "print(total_row * 100 + total_col)"
   ]
  }
 ],
 "metadata": {
  "kernelspec": {
   "display_name": "Python 3",
   "language": "python",
   "name": "python3"
  },
  "language_info": {
   "codemirror_mode": {
    "name": "ipython",
    "version": 3
   },
   "file_extension": ".py",
   "mimetype": "text/x-python",
   "name": "python",
   "nbconvert_exporter": "python",
   "pygments_lexer": "ipython3",
   "version": "3.10.12"
  }
 },
 "nbformat": 4,
 "nbformat_minor": 2
}
